{
 "cells": [
  {
   "cell_type": "markdown",
   "metadata": {},
   "source": [
    "# Coding Club Python Pandas Example\n",
    "\n",
    "Processing data presented by Lois at Coding Club November 21st 2022."
   ]
  },
  {
   "cell_type": "code",
   "execution_count": null,
   "metadata": {},
   "outputs": [],
   "source": [
    "from pathlib import Path\n",
    "import pandas as pd\n",
    "import seaborn as sns\n",
    "\n",
    "# Specify directory containing csv files with metrics exported from MIM\n",
    "data_directory = Path(\"./data/CNS/CNS_CT_MRI_MIM/\")\n",
    "\n",
    "# Load these into a pandas DataFrame, transposing as required.\n",
    "df = pd.DataFrame()\n",
    "for p in data_directory.glob(\"*.csv\"):\n",
    "    df_pat = pd.read_csv(p, index_col=0)\n",
    "    pat_id = p.name.split(\"^\")[0]\n",
    "    df_pat = df_pat.transpose()\n",
    "    df_pat[\"pat_id\"] = pat_id\n",
    "    df = pd.concat([df, df_pat])\n",
    "\n",
    "# Resetting the index is needed since each individual csv tracked their own\n",
    "# index. This just renumbers the index for each row from 1,2,3...N\n",
    "df = df.reset_index()\n",
    "\n",
    "# Some column renaming\n",
    "cols = list(df.columns)\n",
    "cols[0] = \"Contour\"\n",
    "df.columns = cols\n",
    "\n",
    "# Data massaging to bring this into a form suitable for seaborn\n",
    "df_filtered = df.melt(id_vars=['Contour', 'Series Date', \"pat_id\"])\n",
    "df_filtered[\"Contour Name\"] = df_filtered.Contour.apply(lambda x: \" \".join(x.split(\" \")[:-1]))\n",
    "df_filtered[\"Image\"] = df_filtered.Contour.apply(lambda x: x.split(\" \")[-1])\n",
    "df_filtered[\"value\"] = df_filtered[\"value\"].apply(lambda x: None if x is None or \"-\" in x else x)\n",
    "df_filtered[\"value\"] = df_filtered[\"value\"].astype(float)\n",
    "df_filtered = df_filtered[~df_filtered.Contour.str.startswith(\"Line \")]\n",
    "\n",
    "# Produce some plots using seaborn\n",
    "sns.set(rc={'figure.figsize':(11.7,8.27)})\n",
    "ax=sns.boxplot(\n",
    "    data=df_filtered[df_filtered.variable.str.startswith(\"Volume\")],\n",
    "    y=\"value\",\n",
    "    x=\"Contour Name\",\n",
    "    hue=\"Image\"\n",
    ")\n",
    "ax.tick_params(axis='x', rotation=90)\n",
    "ax.set(xlabel='Contour', ylabel='Volume')\n"
   ]
  },
  {
   "cell_type": "code",
   "execution_count": null,
   "metadata": {},
   "outputs": [],
   "source": []
  }
 ],
 "metadata": {
  "kernelspec": {
   "display_name": "Python 3.9.9 64-bit ('platipy')",
   "language": "python",
   "name": "python3"
  },
  "language_info": {
   "codemirror_mode": {
    "name": "ipython",
    "version": 3
   },
   "file_extension": ".py",
   "mimetype": "text/x-python",
   "name": "python",
   "nbconvert_exporter": "python",
   "pygments_lexer": "ipython3",
   "version": "3.9.9"
  },
  "orig_nbformat": 4,
  "vscode": {
   "interpreter": {
    "hash": "83881ff4e1cf98c61dc10e1e7e921b2d7f74d8e753d6ab107beb3168367c6ea0"
   }
  }
 },
 "nbformat": 4,
 "nbformat_minor": 2
}
